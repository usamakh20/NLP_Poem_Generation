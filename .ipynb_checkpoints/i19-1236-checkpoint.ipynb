{
 "cells": [
  {
   "cell_type": "markdown",
   "metadata": {
    "collapsed": true,
    "pycharm": {
     "name": "#%% md\n"
    }
   },
   "source": [
    "##### Name: Usama Khalid\n",
    "##### Email: i191236@nu.edu.pk"
   ]
  },
  {
   "cell_type": "markdown",
   "metadata": {
    "pycharm": {
     "name": "#%% md\n"
    }
   },
   "source": [
    "### Install SpaCy and Urdu model for SpaCy\n",
    "#### I have used https://github.com/mirfan899 urdu model that he built for SpaCy"
   ]
  },
  {
   "cell_type": "code",
   "execution_count": null,
   "metadata": {
    "pycharm": {
     "name": "#%%\n"
    }
   },
   "outputs": [],
   "source": [
    "!pip install spacy==2.2.4\n",
    "!pip install https://github.com/mirfan899/Urdu/raw/master/spacy/ur_model-0.0.0.tar.gz"
   ]
  },
  {
   "cell_type": "markdown",
   "metadata": {
    "pycharm": {
     "name": "#%% md\n"
    }
   },
   "source": [
    "### 1. Importing SpaCy and loading the urdu model"
   ]
  },
  {
   "cell_type": "code",
   "execution_count": 93,
   "metadata": {
    "pycharm": {
     "name": "#%%\n"
    }
   },
   "outputs": [],
   "source": [
    "import re\n",
    "import spacy\n",
    "import random\n",
    "from collections import Counter\n",
    "\n",
    "random.seed()\n",
    "nlp = spacy.load(\"ur_model\")\n",
    "nazmain = ['ghalib.txt','faiz.txt','iqbal.txt']\n",
    "next_line_regex = re.compile(r'\\n+')"
   ]
  },
  {
   "cell_type": "markdown",
   "metadata": {
    "pycharm": {
     "name": "#%% md\n"
    }
   },
   "source": [
    "### 2. Tokenize, Clean and Tag poetry\n",
    "##### - All three poetry files are read.\n",
    "##### - Special characters are removed.\n",
    "##### - start of sentence (<s\\>) and end of sentence tags are added (<\\/s>).\n",
    "##### - Verses are tokenized using SpaCy"
   ]
  },
  {
   "cell_type": "code",
   "execution_count": 110,
   "metadata": {
    "pycharm": {
     "name": "#%%\n"
    }
   },
   "outputs": [
    {
     "data": {
      "text/plain": [
       "['<s>', 'بازیچۂ', 'اطفال', 'ہے', 'دنیا', 'مرے', 'آگے', '</s>']"
      ]
     },
     "execution_count": 110,
     "metadata": {},
     "output_type": "execute_result"
    }
   ],
   "source": [
    "nazam_tokens = ['<s>']\n",
    "for nazam in nazmain:\n",
    "    nazam_text = open(nazam,'r').read()\n",
    "    nazam_cleaned = re.sub(r'[\\u200c.ٕٕ۔\"_ٰٰٰٰٰٰؑA-Za-z!()%٪‘\\'،ُِِّٔٔٔٔؔٓٓٓٓ:َََ؟’*۔“ـٴ]','',nazam_text)\n",
    "    for token in nlp(nazam_cleaned):\n",
    "        if next_line_regex.search(token.text):\n",
    "            nazam_tokens.extend(['</s>','<s>'])\n",
    "        else: nazam_tokens.append(token.text.strip())\n",
    "nazam_tokens.append('</s>')\n",
    "\n",
    "nazam_tokens[:8]"
   ]
  },
  {
   "cell_type": "markdown",
   "metadata": {
    "pycharm": {
     "name": "#%% md\n"
    }
   },
   "source": [
    "### 3. Ngram model generation function\n",
    "##### A generalized ngram model generation function. It takes in a list of tokens and outputs a dictionary containing ngrams and their frequencies."
   ]
  },
  {
   "cell_type": "code",
   "execution_count": 95,
   "metadata": {
    "pycharm": {
     "name": "#%%\n"
    }
   },
   "outputs": [],
   "source": [
    "def Ngrams(tokens,n=1):\n",
    "    ngrams=Counter()\n",
    "    for i in range(len(tokens)-n+1):\n",
    "        gram = [tokens[j] for j in range(i,i+n)]\n",
    "        ngrams[' '.join(gram)] += 1\n",
    "\n",
    "    return ngrams"
   ]
  },
  {
   "cell_type": "markdown",
   "metadata": {
    "pycharm": {
     "name": "#%% md\n"
    }
   },
   "source": [
    "##### Initialize Uni, Bi and Tri grams"
   ]
  },
  {
   "cell_type": "code",
   "execution_count": null,
   "metadata": {
    "pycharm": {
     "name": "#%%\n"
    }
   },
   "outputs": [],
   "source": [
    "unigrams = Ngrams(nazam_tokens)\n",
    "bigrams = Ngrams(nazam_tokens,2)\n",
    "trigrams = Ngrams(nazam_tokens,3)"
   ]
  },
  {
   "cell_type": "markdown",
   "metadata": {
    "pycharm": {
     "name": "#%% md\n"
    }
   },
   "source": [
    "### 4. Define Ngram word generation functions.\n",
    "##### These functions predict the next/previous word given an ngram model and a starting word. They randomly select and return a word from the top probable matches for an ngram model."
   ]
  },
  {
   "cell_type": "code",
   "execution_count": 97,
   "metadata": {
    "pycharm": {
     "name": "#%%\n"
    }
   },
   "outputs": [],
   "source": [
    "def unigram_model(unigram):\n",
    "    return unigram.most_common(22)[2:][random.randint(0,19)][0]\n",
    "\n",
    "# Also works for backward bigrams\n",
    "def bigram_model(bigram,word='<s>',backward=False):\n",
    "    matches = Counter({\n",
    "        key : bigram[key]\n",
    "        for key in bigram\n",
    "        if word == key.split(' ')[backward] and\n",
    "           key.split(' ')[not backward] != ('<s>' if backward else '</s>')})\n",
    "\n",
    "    top_probable = matches.most_common(20)\n",
    "\n",
    "    if len(top_probable) == 0:\n",
    "        return '<s>' if backward else '</s>'\n",
    "    else:\n",
    "        return top_probable[random.randint(0,len(top_probable)-1)][0].split(' ')[not backward]\n",
    "\n",
    "def trigram_model(trigram,words,default):\n",
    "    word = words.split(' ')[-2:]\n",
    "    matches = Counter({\n",
    "        key.split(' ')[2] : trigram[key]\n",
    "        for key in trigram\n",
    "        if word[0] == key.split(' ')[0] and\n",
    "            word[1] == key.split(' ')[1] and\n",
    "            key.split(' ')[2] != '</s>'})\n",
    "\n",
    "    top_probable = matches.most_common(5)\n",
    "\n",
    "    if len(top_probable) == 0:\n",
    "        return words +' '+ default\n",
    "    else:\n",
    "        return words +' '+ top_probable[random.randint(0,len(top_probable)-1)][0]\n"
   ]
  },
  {
   "cell_type": "markdown",
   "metadata": {
    "pycharm": {
     "name": "#%% md\n"
    }
   },
   "source": [
    "### 5. Generate the first word\n",
    "##### First word can also be generated from a unigram model but here we used the bigram model. Top words that occur with start of sentence tag are picked randomly."
   ]
  },
  {
   "cell_type": "code",
   "execution_count": 104,
   "metadata": {
    "pycharm": {
     "name": "#%%\n"
    }
   },
   "outputs": [
    {
     "data": {
      "text/plain": [
       "'پھر'"
      ]
     },
     "execution_count": 104,
     "metadata": {},
     "output_type": "execute_result"
    }
   ],
   "source": [
    "# first_word = unigram_model(unigrams)\n",
    "first_word = bigram_model(bigrams)\n",
    "first_word"
   ]
  },
  {
   "cell_type": "markdown",
   "metadata": {
    "pycharm": {
     "name": "#%% md\n"
    }
   },
   "source": [
    "### 6. Generate Sonnet using Bigram (Task 1)\n",
    "##### Here we take the previously generated first word and use the bigram model to predict next words until we reach the required length or if the end of sentence (<\\/s>) is encountered\n",
    "##### Bonus rhyme: We randomly rhyme a verse if end of sentence is prematurely encountered. To rhyme a verse we keep track of the last word generated in previous verses and append it to current verse."
   ]
  },
  {
   "cell_type": "code",
   "execution_count": 122,
   "metadata": {
    "pycharm": {
     "name": "#%%\n"
    }
   },
   "outputs": [
    {
     "name": "stdout",
     "output_type": "stream",
     "text": [
      "کہ دل نہ کرنے میں تو\n",
      " اسد کس درمیاں کیوں اندھیری ہے اسد\n",
      " لاش بے پناہ اسد\n",
      " دن گزارا اسد\n",
      "\n",
      "\n",
      " ہے یہ لاش بے نیازی\n",
      " تم کہتے ہو چکا میں\n",
      " ہم ملیں کہاں کچھ ایسی\n",
      " اے نو بہار نہ پوچھ\n",
      "\n",
      "\n",
      " خواب گران خسرو\n",
      " عشق بادۂ گلفام مشک بو ذر و\n",
      " گئی جیسے خوشبوئے زلف سے تو\n",
      " جائے کچھ خیال کہ جس\n",
      "\n",
      "\n",
      "\n"
     ]
    }
   ],
   "source": [
    "bi_sonnet = next_word = first_word\n",
    "rhyme = ''\n",
    "for stanza in range(3):\n",
    "    for verse in range(4):\n",
    "        for i in range(random.randint(3,7)):\n",
    "            next_word = bigram_model(bigrams,next_word)\n",
    "            if next_word == '</s>':\n",
    "                if rhyme:\n",
    "                    bi_sonnet += ' '+rhyme\n",
    "                break\n",
    "            bi_sonnet += ' '+next_word\n",
    "        bi_sonnet += '\\n'\n",
    "        if next_word!='</s>':\n",
    "            rhyme = next_word\n",
    "        next_word = bigram_model(bigrams,first_word)\n",
    "    bi_sonnet += '\\n\\n'\n",
    "\n",
    "print(bi_sonnet)"
   ]
  },
  {
   "cell_type": "markdown",
   "metadata": {},
   "source": [
    "### 7. Generate Sonnet using Trigram (Task 2)\n",
    "##### Initially generate two words using bigram and pass them to trigram to generate the third. This process is repeated as described for bigram generation.\n",
    "##### Rhyme is performed similarly as before."
   ]
  },
  {
   "cell_type": "code",
   "execution_count": 10,
   "metadata": {
    "pycharm": {
     "name": "#%%\n"
    }
   },
   "outputs": [
    {
     "name": "stdout",
     "output_type": "stream",
     "text": [
      "\n",
      "\n",
      "\n",
      " مر جائیں سو وہ بھی نہ ہوا \n",
      " غزل سرا نہ ہوا \n",
      " باج خواہ تسکیں ہو \n",
      " خستہ جاں کی ہے جس فلک پہ تقدیر ء\n",
      "\n",
      "\n",
      " کیا کریں فرض ہے ادائے نماز \n",
      " گنبد بے در کھلا \n",
      " تیرے زمان و مکاں تک \n",
      " ہمیں راندۂ زمانہ کیا \n",
      "\n",
      "\n",
      " ہمیں حاصل نہیں رہا \n",
      " اور جیتے رہتے یہی انتظار ہوتا\n",
      " کیا برا تھا مرنا اگر ایک\n",
      " اور ماتم یک شہر آرزو ایک\n"
     ]
    }
   ],
   "source": [
    "tri_sonnet = ''\n",
    "for stanza in range(3):\n",
    "    rhyme = ''\n",
    "    tri_sonnet += '\\n\\n'\n",
    "    for verse in range(4):\n",
    "        next_word = bigram_model(bigrams,first_word)\n",
    "        tri_sonnet += '\\n ' + next_word + ' ' + bigram_model(bigrams,next_word)\n",
    "        for i in range(random.randint(3,7)):\n",
    "            tri_sonnet = trigram_model(trigrams,tri_sonnet,rhyme)\n",
    "            if tri_sonnet.split(' ')[-1] == rhyme:\n",
    "                break\n",
    "        rhyme = tri_sonnet.split(' ')[-1]\n",
    "\n",
    "print(tri_sonnet)\n",
    "\n"
   ]
  },
  {
   "cell_type": "markdown",
   "metadata": {},
   "source": [
    "### 8. Generate Sonnet using Backward Bigram (Task 3)\n",
    "##### A Similar approach as in Bigram just using the bigram model backwards. Initially the last word is generated using bigrams, picked from word pairs that contain end of sentence tag. The whole sonnet is generated backwards.\n",
    "##### Rhyme logic is similar as in bigrams."
   ]
  },
  {
   "cell_type": "code",
   "execution_count": 107,
   "metadata": {
    "pycharm": {
     "name": "#%%\n"
    }
   },
   "outputs": [
    {
     "name": "stdout",
     "output_type": "stream",
     "text": [
      "\n",
      "\n",
      "\n",
      "روئیں گے \n",
      "شیخ ہماری جو آ بسیں گے \n",
      "نے دیکھا جھکا دیتا \n",
      "بدقسمت ملک کو دیتا \n",
      "\n",
      "\n",
      "ہوا کیا بنی \n",
      "ہے یہ انداز بہ پا جاتی ہے \n",
      "صحرا مرے رازداں تیرا اگر \n",
      "عبادت برق خرمن جلے اگر \n",
      "\n",
      "\n",
      "برہنہ پائی درد کی گویا \n",
      "آتا ہے طوطئ آئینۂ دل افسردہ گویا \n",
      "وہ خدا کے مانند گویا \n",
      "کے پیتے تھے  \n"
     ]
    }
   ],
   "source": [
    "previous_word = bigram_model(bigrams,'</s>',True)\n",
    "back_bi_sonnet = ''\n",
    "rhyme = ''\n",
    "for stanza in range(3):\n",
    "    for verse in range(4):\n",
    "        if random.randint(0,1) or previous_word == '<s>':\n",
    "            previous_word = rhyme\n",
    "        rhyme = previous_word\n",
    "        for i in range(random.randint(3,7)):\n",
    "            back_bi_sonnet = previous_word +' '+back_bi_sonnet\n",
    "            previous_word = bigram_model(bigrams,previous_word,True)\n",
    "            if previous_word == '<s>':\n",
    "                break\n",
    "        previous_word = bigram_model(bigrams,back_bi_sonnet.split(' ')[-1],True)\n",
    "        back_bi_sonnet = '\\n' + back_bi_sonnet\n",
    "    back_bi_sonnet = '\\n\\n' + back_bi_sonnet\n",
    "\n",
    "print(back_bi_sonnet)"
   ]
  },
  {
   "cell_type": "markdown",
   "metadata": {},
   "source": [
    "### 9. Generate Sonnet using Bidirectional Bigram (Task 4)\n",
    "##### Initially generate a middle word using unigram and predict the right and left words recursively to build a verse.\n",
    "##### Rhyme logic is similar as in bigrams."
   ]
  },
  {
   "cell_type": "code",
   "execution_count": 109,
   "metadata": {
    "pycharm": {
     "name": "#%%\n"
    }
   },
   "outputs": [
    {
     "name": "stdout",
     "output_type": "stream",
     "text": [
      "یار نے اپنا دل\n",
      "چرایا زخم نے مجھ میں\n",
      "میں نے  نوکر\n",
      "اہل جہاں زخم نے کیا\n",
      "\n",
      "\n",
      "ہونے نے مجھ سے\n",
      "نیاز عشق نے زیست کا\n",
      "ناگہاں اس نے نہ مانگ لیتے\n",
      "دل نے داد\n",
      "\n",
      "\n",
      "اور یاں خدا نے یہ کیا کیا\n",
      "عشق نے وہ\n",
      "طبیعت نے کہ کبھی فرصت\n",
      "کہاں کہ ہم نے نقش\n",
      "\n",
      "\n",
      "\n"
     ]
    }
   ],
   "source": [
    "middle_word = unigram_model(unigrams)\n",
    "bi_dir_sonnet = ''\n",
    "\n",
    "for stanza in range(3):\n",
    "    for verse in range(4):\n",
    "        phrases=['','']\n",
    "\n",
    "        previous_word = middle_word\n",
    "        for i in range(random.randint(1,3)):\n",
    "            previous_word = bigram_model(bigrams,previous_word,True)\n",
    "            if previous_word == '<s>': break\n",
    "            phrases[0] = previous_word +' '+phrases[0]\n",
    "\n",
    "        next_word = middle_word\n",
    "        for i in range(random.randint(1,3)):\n",
    "            next_word = bigram_model(bigrams,next_word)\n",
    "            if next_word == '</s>':\n",
    "                if rhyme: phrases += ' '+rhyme\n",
    "                break\n",
    "            phrases[1] += ' '+next_word\n",
    "        bi_dir_sonnet += middle_word.join(phrases)+'\\n'\n",
    "\n",
    "        if next_word!='</s>':\n",
    "            rhyme = next_word\n",
    "\n",
    "    bi_dir_sonnet+='\\n\\n'\n",
    "\n",
    "print(bi_dir_sonnet)"
   ]
  }
 ],
 "metadata": {
  "kernelspec": {
   "display_name": "Python 3",
   "language": "python",
   "name": "python3"
  },
  "language_info": {
   "codemirror_mode": {
    "name": "ipython",
    "version": 3
   },
   "file_extension": ".py",
   "mimetype": "text/x-python",
   "name": "python",
   "nbconvert_exporter": "python",
   "pygments_lexer": "ipython3",
   "version": "3.6.9"
  }
 },
 "nbformat": 4,
 "nbformat_minor": 1
}
